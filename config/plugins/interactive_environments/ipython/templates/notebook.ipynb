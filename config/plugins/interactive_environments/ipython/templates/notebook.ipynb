{
 "metadata": {
  "name": "",
  "signature": "sha256:%s"
 },
 "nbformat": 3,
 "nbformat_minor": 0,
 "worksheets": [
  {
   "cells": [
    {
     "cell_type": "heading",
     "level": 1,
     "metadata": {},
     "source": [
      "Welcome to the interactive Galaxy IPython Notebook."
     ]
    },
    {
     "cell_type": "markdown",
     "metadata": {},
     "source": [
      "You can access your data via the dataset number. For example, ``handle = get(42)``.",
      "To save data, write your data to a file, and then call ``put('filename.txt')``. The dataset will then be available in your galaxy history.",
      "Notebooks can be saved to Galaxy by clicking the large green button at the top right of the IPython interface.<br>",
      "More help and informations can be found on the project [website](https://github.com/bgruening/galaxy-ipython)."
     ]
    },
    {
     "cell_type": "code",
     "collapsed": false,
     "input": [
     ],
     "language": "python",
     "metadata": {},
     "outputs": [],
     "prompt_number": 1
    }
   ],
   "metadata": {}
  }
 ]
}
